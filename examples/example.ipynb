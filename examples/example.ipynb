{
 "cells": [
  {
   "cell_type": "code",
   "execution_count": null,
   "id": "545ccabd",
   "metadata": {},
   "outputs": [],
   "source": [
    "# Copyright 2022 Owkin, inc.\n",
    "#\n",
    "# Licensed under the Apache License, Version 2.0 (the \"License\");\n",
    "# you may not use this file except in compliance with the License.\n",
    "# You may obtain a copy of the License at\n",
    "#\n",
    "#      http://www.apache.org/licenses/LICENSE-2.0\n",
    "#\n",
    "# Unless required by applicable law or agreed to in writing, software\n",
    "# distributed under the License is distributed on an \"AS IS\" BASIS,\n",
    "# WITHOUT WARRANTIES OR CONDITIONS OF ANY KIND, either express or implied.\n",
    "# See the License for the specific language governing permissions and\n",
    "# limitations under the License."
   ]
  },
  {
   "cell_type": "markdown",
   "id": "9544efd0",
   "metadata": {},
   "source": [
    "# Model Manipulation Software\n",
    "\n",
    "Start by importing the main classes from the `melloddy_predictor`:"
   ]
  },
  {
   "cell_type": "code",
   "execution_count": null,
   "id": "741c8227",
   "metadata": {},
   "outputs": [],
   "source": [
    "from melloddy_predictor import Model\n",
    "from melloddy_predictor import PreparedData\n",
    "\n",
    "import melloddy_tuner.utils.helper\n",
    "import pandas as pd\n",
    "import pathlib"
   ]
  },
  {
   "cell_type": "markdown",
   "id": "6f171bf5",
   "metadata": {},
   "source": [
    "Then load your data, from a file or manually building a `DataFrame`:"
   ]
  },
  {
   "cell_type": "code",
   "execution_count": null,
   "id": "9fed2747",
   "metadata": {},
   "outputs": [],
   "source": [
    "# Manually building a DataFrame\n",
    "raw_data = [\n",
    "    [80540,836392,\"Cc1ccc2ncccc2c1\"],\n",
    "    [319232,1835024,\"CCNC(=O)c1cc(C(C)Nc2cc(F)cc(F)c2)c3OC(=CC(=O)c3c1)N4CCOCC4\"]\n",
    "]\n",
    "data = pd.DataFrame(raw_data, columns=[\"\", \"input_compound_id\", \"smiles\"])\n",
    "# or from a T2 file\n",
    "data = melloddy_tuner.utils.helper.read_input_file(\"../inputs/data/T2_100samples.csv\")\n",
    "\n",
    "data.head()"
   ]
  },
  {
   "cell_type": "markdown",
   "id": "9fe2f339",
   "metadata": {},
   "source": [
    "Build a `PreparedData` object that we will use to perform predictions:"
   ]
  },
  {
   "cell_type": "code",
   "execution_count": null,
   "id": "34d2f595",
   "metadata": {},
   "outputs": [],
   "source": [
    "encryption_key_path = pathlib.Path(\"../inputs/config/example_key.json\")\n",
    "parameters_path = pathlib.Path(\"../inputs/config/example_parameters.json\")\n",
    "num_cpu = 1\n",
    "\n",
    "prepared_data = PreparedData(\n",
    "    encryption_key=encryption_key_path,\n",
    "    preparation_parameters=parameters_path,\n",
    "    smiles=data,\n",
    "    num_cpu=num_cpu\n",
    ")"
   ]
  },
  {
   "cell_type": "markdown",
   "id": "0f33bc33",
   "metadata": {},
   "source": [
    "Build a `Model` object that will load the model in order to perform predictions, here we will use a CLS model:"
   ]
  },
  {
   "cell_type": "code",
   "execution_count": null,
   "id": "7f20d275",
   "metadata": {},
   "outputs": [],
   "source": [
    "model_path = pathlib.Path(\"../inputs/models/example_cls_model/\")\n",
    "cls_model = Model(model_path)"
   ]
  },
  {
   "cell_type": "markdown",
   "id": "e5bcd7c3",
   "metadata": {},
   "source": [
    "Predict on all the tasks using the `Model` we built in the previous step:"
   ]
  },
  {
   "cell_type": "code",
   "execution_count": null,
   "id": "20c37ba3",
   "metadata": {},
   "outputs": [],
   "source": [
    "cls_predictions, reg_predictions = cls_model.predict(prepared_data)\n",
    "\n",
    "cls_predictions.head()"
   ]
  },
  {
   "cell_type": "markdown",
   "id": "768cf583",
   "metadata": {},
   "source": [
    "If we want to we can predict only on a subset of tasks, here we will predict on tasks `1` and `4`, the ids are based on the `continuous_task_ids` from the T8 file:"
   ]
  },
  {
   "cell_type": "code",
   "execution_count": null,
   "id": "8b7d8c61",
   "metadata": {},
   "outputs": [],
   "source": [
    "cls_predictions, reg_predictions = cls_model.predict(prepared_data, classification_tasks=[1, 4])\n",
    "\n",
    "cls_predictions.head()"
   ]
  },
  {
   "cell_type": "markdown",
   "id": "488bda23",
   "metadata": {},
   "source": [
    "By default, the model is loaded in memory when model.predict() is called, and unloaded before it returns the predictions.\n",
    "If you want to keep the model in memory, you can initialize it with `load_on_demand = False`"
   ]
  },
  {
   "cell_type": "code",
   "execution_count": null,
   "id": "6f32c10b",
   "metadata": {},
   "outputs": [],
   "source": [
    "model = Model(model_path, load_on_demand=False)\n",
    "\n",
    "# you can do multiple predictions and then unload it\n",
    "\n",
    "model.unload()"
   ]
  }
 ],
 "metadata": {
  "interpreter": {
   "hash": "b69c526ab2a100f8d03cae519a113d9d5e7ee86471cc1fa1cc606eca509863b6"
  },
  "kernelspec": {
   "display_name": "Python 3 (ipykernel)",
   "language": "python",
   "name": "python3"
  },
  "language_info": {
   "codemirror_mode": {
    "name": "ipython",
    "version": 3
   },
   "file_extension": ".py",
   "mimetype": "text/x-python",
   "name": "python",
   "nbconvert_exporter": "python",
   "pygments_lexer": "ipython3",
   "version": "3.7.4"
  }
 },
 "nbformat": 4,
 "nbformat_minor": 5
}
